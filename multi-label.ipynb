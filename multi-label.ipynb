{
 "cells": [
  {
   "cell_type": "markdown",
   "metadata": {},
   "source": [
    "# Train model"
   ]
  },
  {
   "cell_type": "code",
   "execution_count": null,
   "metadata": {},
   "outputs": [],
   "source": [
    "import numpy as np\n",
    "from PIL import ImageFile\n",
    "import pandas as pd\n",
    "from tensorflow.keras.models import *\n",
    "from tensorflow.keras.layers import *\n",
    "from tensorflow.keras.backend import *\n",
    "from tensorflow.keras.preprocessing.image import *\n",
    "import matplotlib.pyplot as plt\n",
    "from sklearn.model_selection import train_test_split\n",
    "from tqdm import tqdm\n",
    "import tensorflow as tf\n",
    "import tensorflow as tf \n",
    "ImageFile.LOAD_TRUNCATED_IMAGES = True\n",
    "plt.style.use('fivethirtyeight')\n",
    "%matplotlib inline\n",
    "import cv2\n",
    "from tensorflow.keras.optimizers import Adam\n",
    "import albumentations as A"
   ]
  },
  {
   "cell_type": "code",
   "execution_count": null,
   "metadata": {},
   "outputs": [],
   "source": [
    "df = pd.read_csv(\"../input/aiijc-final-dcm/train.csv\")\n",
    "df.head()"
   ]
  },
  {
   "cell_type": "code",
   "execution_count": null,
   "metadata": {},
   "outputs": [],
   "source": [
    "df['label'] = df['label'].replace({\"Направо с последующим поворотом налево\": \"to the right followed by a left turn\", \n",
    "                                    \"Въезд на кольцо\": \"entrance to the ring\",\n",
    "                                    \"Слегка налево\": \"slightly to the left\",\n",
    "                                    \"Слегка направо\": \"slightly to the right\"}, regex=True)\n",
    "df['label'] = df['label'].replace({\n",
    "  \"Прямо\": \"straight\",\n",
    "  \"Направо\": \"right\",\n",
    "  \"Налево\": \"left\",\n",
    "}, regex=True)"
   ]
  },
  {
   "cell_type": "code",
   "execution_count": null,
   "metadata": {},
   "outputs": [],
   "source": [
    "def convert_label(input_str):\n",
    "    tmp_str = \"\"\n",
    "    tmp = 0\n",
    "    k=0\n",
    "    label_ = [\"straight\",\"left\",\"right\",\"entrance to the ring\", \"slightly to the left\", \n",
    "              \"slightly to the right\", \"to the right followed by a left turn\"]\n",
    "    output = [[0, 0, 0, 0, 0, 0, 0],\n",
    "              [0, 0, 0, 0, 0, 0, 0],\n",
    "              [0, 0, 0, 0, 0, 0, 0],\n",
    "              [0, 0, 0, 0, 0, 0, 0],\n",
    "              [0, 0, 0, 0, 0, 0, 0]]\n",
    "    \n",
    "    for i in input_str:\n",
    "        k+=1\n",
    "        if k==len(input_str):\n",
    "            tmp_str = tmp_str + i\n",
    "            ind = label_.index(tmp_str)\n",
    "            output[tmp][ind] = 1\n",
    "            tmp_str = \"\"\n",
    "            tmp+=1\n",
    "        if i != \",\" and i != \"+\":\n",
    "            tmp_str = tmp_str + i\n",
    "        elif i == \",\":\n",
    "            ind = label_.index(tmp_str)\n",
    "            output[tmp][ind] = 1\n",
    "            tmp_str = \"\"\n",
    "            tmp+=1\n",
    "        elif i == \"+\":\n",
    "            ind = label_.index(tmp_str)\n",
    "            output[tmp][ind] = 1\n",
    "            tmp_str = \"\"\n",
    "    return output\n",
    "\n",
    "labels = []\n",
    "\n",
    "for i in range(len(df)):\n",
    "    output = convert_label(df[\"label\"][i])\n",
    "    flatten_output = [j for sub in output for j in sub]\n",
    "    labels.append(flatten_output)"
   ]
  },
  {
   "cell_type": "code",
   "execution_count": null,
   "metadata": {},
   "outputs": [],
   "source": [
    "root_dir = \"../input/new-autoencoder-128-128/\"\n",
    "X = []\n",
    "\n",
    "for i in tqdm(range(df.shape[0])):\n",
    "    img_path = root_dir + df[\"filename\"][i]\n",
    "    X.append(cv2.resize(cv2.imread(img_path),dsize=(128,128)))\n",
    "    \n",
    "X = np.array(X).astype(\"float32\")\n",
    "Y = np.array(labels).astype(\"float32\")"
   ]
  },
  {
   "cell_type": "code",
   "execution_count": null,
   "metadata": {},
   "outputs": [],
   "source": [
    "train_transform = A.Compose([\n",
    "        A.augmentations.transforms.OpticalDistortion(p=0.3),\n",
    "        A.augmentations.transforms.ColorJitter(always_apply=False, p=0.3),\n",
    "        A.augmentations.geometric.rotate.Rotate(p=0.3, limit=7),\n",
    "        A.augmentations.transforms.RandomShadow(p=0.3),\n",
    "        A.augmentations.transforms.Cutout(num_holes=6, max_h_size=5, max_w_size=5, fill_value=0, always_apply=False, p=0.4),\n",
    "])"
   ]
  },
  {
   "cell_type": "code",
   "execution_count": null,
   "metadata": {},
   "outputs": [],
   "source": [
    "def albu_transform(image):\n",
    "    return train_transform(image=image)['image']/255."
   ]
  },
  {
   "cell_type": "code",
   "execution_count": null,
   "metadata": {},
   "outputs": [],
   "source": [
    "datagen_train = tf.keras.preprocessing.image.ImageDataGenerator(preprocessing_function = albu_transform)\n",
    "datagen_val =tf.keras.preprocessing.image.ImageDataGenerator(rescale=1/255.)"
   ]
  },
  {
   "cell_type": "code",
   "execution_count": null,
   "metadata": {},
   "outputs": [],
   "source": [
    "X_train, X_val, y_train, y_val = train_test_split(X, Y, test_size=0.2, shuffle = True, random_state = 42)"
   ]
  },
  {
   "cell_type": "code",
   "execution_count": null,
   "metadata": {},
   "outputs": [],
   "source": [
    "def train_model(model, lr, min_lr, num_epoch, step_per_epoch, validation_step):\n",
    "    print('--------------Deploying the Model...--------------')\n",
    "    model.compile(loss = 'binary_crossentropy', \n",
    "                  optimizer = Adam(lr = lr),\n",
    "                  metrics = tf.keras.metrics.AUC())\n",
    "    monitor = tf.keras.callbacks.EarlyStopping(monitor = 'val_loss', \n",
    "                                               min_delta = 0.0001, \n",
    "                                               patience = 10, \n",
    "                                               verbose = 1, \n",
    "                                               mode = 'min',\n",
    "                                               restore_best_weights = True)\n",
    "    \n",
    "    lr_scheduler = tf.keras.callbacks.ReduceLROnPlateau(monitor = \"val_loss\",\n",
    "                                                        factor = 0.5,\n",
    "                                                        patience = 3,\n",
    "                                                        verbose = 1,\n",
    "                                                        mode = 'min',\n",
    "                                                        min_delta = 0.0001,\n",
    "                                                        cooldown = 0,\n",
    "                                                        min_lr = min_lr)\n",
    "    filepath = ModelName + \"_roc_.h5\"\n",
    "    checkpoint = tf.keras.callbacks.ModelCheckpoint(filepath, \n",
    "                                                    monitor = 'val_loss', \n",
    "                                                    verbose = 1, \n",
    "                                                    save_best_only = False, \n",
    "                                                    save_weights_only = False, \n",
    "                                                    mode = 'min',\n",
    "                                                    save_freq = 'epoch') \n",
    "    print('--------------Deployed Successfully--------------')\n",
    "    print('--------------Training Begins--------------')\n",
    "    \n",
    "    history = model.fit(datagen_train.flow(X_train, y_train), \n",
    "                        epochs = num_epoch, \n",
    "                        steps_per_epoch = step_per_epoch,\n",
    "                        validation_data = datagen_val.flow(X_val, y_val),\n",
    "                        validation_steps = validation_step,\n",
    "                        callbacks = [monitor,lr_scheduler])\n",
    "    return history\n",
    "\n",
    "def BuildModel(ModelName):\n",
    "    print('--------------Building The Model...--------------')\n",
    "    base_model = tf.keras.applications.ResNet50(include_top=False,\n",
    "                                                weights='imagenet',\n",
    "                                                input_shape=(128,128,3))\n",
    "    base_model.trainable = True\n",
    "    print(\"\\nNumber of layers in the base model: \", len(base_model.layers))\n",
    "    x = base_model.output\n",
    "    x = tf.keras.layers.GlobalAveragePooling2D()(x)\n",
    "    x = tf.keras.layers.Dense(1024,activation='relu')(x)\n",
    "    x = tf.keras.layers.Dense(512,activation='relu')(x)\n",
    "    out = tf.keras.layers.Dense(35, activation='sigmoid')(x)\n",
    "    model = tf.keras.models.Model(inputs=base_model.input, outputs=out)\n",
    "        \n",
    "    print('\\n--------------Done!--------------')\n",
    "    return model"
   ]
  },
  {
   "cell_type": "code",
   "execution_count": null,
   "metadata": {},
   "outputs": [],
   "source": [
    "clear_session()\n",
    "BATCH_SIZE = 128\n",
    "model_name = \"resnet50\"\n",
    "\n",
    "model = BuildModel(ModelName=model_name)\n",
    "\n",
    "step_per_epoch = len(y_train)//batch_size\n",
    "validation_step = len(y_train)//batch_size\n",
    "\n",
    "lr = 0.0002\n",
    "num_epoch = 1000\n",
    "min_lr = 1e-08\n",
    "\n",
    "history = train_model(model, lr, min_lr, num_epoch, step_per_epoch, validation_step)"
   ]
  },
  {
   "cell_type": "code",
   "execution_count": null,
   "metadata": {},
   "outputs": [],
   "source": [
    "model.save('resnet50.h5')"
   ]
  },
  {
   "cell_type": "markdown",
   "metadata": {},
   "source": [
    "# Predict"
   ]
  },
  {
   "cell_type": "code",
   "execution_count": null,
   "metadata": {},
   "outputs": [],
   "source": [
    "df = pd.read_csv('../input/aiijc-final-dcm/sample_submission.csv')"
   ]
  },
  {
   "cell_type": "code",
   "execution_count": null,
   "metadata": {},
   "outputs": [],
   "source": [
    "root_dir = \"../input/aiijc-final-dcm/\"\n",
    "X_test = []\n",
    "\n",
    "for i in tqdm(range(df.shape[0])):\n",
    "    img_path = root_dir + df[\"filename\"][i]\n",
    "    X_test.append(cv2.resize(cv2.imread(img_path),dsize=(128,128)))"
   ]
  },
  {
   "cell_type": "code",
   "execution_count": null,
   "metadata": {},
   "outputs": [],
   "source": [
    "result_np = model.predict(X_test, batch_size=512, verbose=1)\n",
    "result_np = result_np.reshape(-1,5,7)"
   ]
  },
  {
   "cell_type": "code",
   "execution_count": null,
   "metadata": {},
   "outputs": [],
   "source": [
    "labels_to_use = [\"straight\",\"left\",\"right\",\"entrance to the ring\", \"slightly to the left\", \n",
    "                 \"slightly to the right\", \"to the right followed by a left turn\"]\n",
    "mega_str=[]\n",
    "for i in tqdm(result_np):\n",
    "    tup = np.where(i>=0.2) #this is the threshold\n",
    "    small_str=[]\n",
    "    first_cl=''\n",
    "    second_cl=''\n",
    "    third_cl=''\n",
    "    fourth_cl=''\n",
    "    fifth_cl=''\n",
    "    col_1 = np.where(tup[0]==0) \n",
    "    col_2 = np.where(tup[0]==1)\n",
    "    col_3 = np.where(tup[0]==2)\n",
    "    col_4 = np.where(tup[0]==3)\n",
    "    col_5 = np.where(tup[0]==4)\n",
    "    \n",
    "    if len(col_1[0])>0:\n",
    "        for indice in np.array(col_1)[0]:\n",
    "            first_cl = first_cl+'+'+labels_to_use[tup[1][indice]]\n",
    "        \n",
    "        first_cl=first_cl[1:]+','\n",
    "            \n",
    "    if len(col_2[0])>0:\n",
    "        for indice in np.array(col_2)[0]:\n",
    "            second_cl = second_cl+'+'+labels_to_use[tup[1][indice]]\n",
    "        \n",
    "        second_cl=second_cl[1:]+','\n",
    "            \n",
    "    if len(col_3[0])>0:\n",
    "        for indice in np.array(col_3)[0]:\n",
    "            third_cl = third_cl+'+'+labels_to_use[tup[1][indice]]\n",
    "            \n",
    "        third_cl = third_cl[1:]+','\n",
    "            \n",
    "    if len(col_4[0])>0:\n",
    "        for indice in np.array(col_4)[0]:\n",
    "            fourth_cl = fourth_cl+'+'+labels_to_use[tup[1][indice]]\n",
    "            \n",
    "        fourth_cl = fourth_cl[1:]+','\n",
    "            \n",
    "    if len(col_5[0])>0:\n",
    "        for indice in np.array(col_5)[0]:\n",
    "            fifth_cl = fifth_cl+'+'+labels_to_use[tup[1][indice]]\n",
    "        \n",
    "        fifth_cl = fifth_cl[1:]+','\n",
    "    final_str= first_cl+second_cl+third_cl+fourth_cl+fifth_cl\n",
    "    mega_str.append(final_str[:-1])"
   ]
  },
  {
   "cell_type": "code",
   "execution_count": null,
   "metadata": {},
   "outputs": [],
   "source": [
    "df_pred = pd.DataFrame({'filename':df['filename'],\n",
    "                       'label':mega_str})\n",
    "df_pred.to_csv('submission.csv')"
   ]
  }
 ],
 "metadata": {
  "language_info": {
   "name": "python"
  },
  "orig_nbformat": 4
 },
 "nbformat": 4,
 "nbformat_minor": 2
}
